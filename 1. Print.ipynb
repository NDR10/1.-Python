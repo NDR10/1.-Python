{
 "cells": [
  {
   "cell_type": "code",
   "execution_count": 2,
   "id": "b835c876-dcdc-453f-8bc6-5264fb203d32",
   "metadata": {},
   "outputs": [
    {
     "name": "stdout",
     "output_type": "stream",
     "text": [
      "Hi. This is my first Python program using Jupyter Notebook\n"
     ]
    }
   ],
   "source": [
    "print (\"Hi. This is my first Python program using Jupyter Notebook\")"
   ]
  },
  {
   "cell_type": "code",
   "execution_count": 24,
   "id": "b33d881d-8c16-42bc-8fc3-3abfcc5af901",
   "metadata": {},
   "outputs": [
    {
     "name": "stdin",
     "output_type": "stream",
     "text": [
      "What is your name? Dilip Raja\n"
     ]
    }
   ],
   "source": [
    "Your_Name = input(\"What is your name?\")"
   ]
  },
  {
   "cell_type": "code",
   "execution_count": 26,
   "id": "a1034213-c370-4916-8ef7-ce5cacb3710c",
   "metadata": {},
   "outputs": [
    {
     "name": "stdout",
     "output_type": "stream",
     "text": [
      "Hi Dilip Raja . Hope you are fine.\n"
     ]
    }
   ],
   "source": [
    "print (\"Hi\", Your_Name, \". Hope you are fine.\")"
   ]
  },
  {
   "cell_type": "code",
   "execution_count": null,
   "id": "a6996684-682d-4ad5-9f11-0950c426f25b",
   "metadata": {},
   "outputs": [],
   "source": []
  }
 ],
 "metadata": {
  "kernelspec": {
   "display_name": "Python 3 (ipykernel)",
   "language": "python",
   "name": "python3"
  },
  "language_info": {
   "codemirror_mode": {
    "name": "ipython",
    "version": 3
   },
   "file_extension": ".py",
   "mimetype": "text/x-python",
   "name": "python",
   "nbconvert_exporter": "python",
   "pygments_lexer": "ipython3",
   "version": "3.12.4"
  }
 },
 "nbformat": 4,
 "nbformat_minor": 5
}
