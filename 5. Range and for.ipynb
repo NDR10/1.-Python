{
 "cells": [
  {
   "cell_type": "code",
   "execution_count": 45,
   "id": "c07fc329-ab5b-4e31-888d-d85427d805c5",
   "metadata": {},
   "outputs": [],
   "source": [
    "list1 = range(1,10)"
   ]
  },
  {
   "cell_type": "code",
   "execution_count": 22,
   "id": "de6d05e2-7cc3-41fe-b315-098399422276",
   "metadata": {},
   "outputs": [
    {
     "name": "stdout",
     "output_type": "stream",
     "text": [
      "0\n",
      "1\n",
      "2\n",
      "3\n",
      "4\n",
      "5\n",
      "6\n",
      "7\n",
      "8\n",
      "9\n"
     ]
    }
   ],
   "source": [
    "for N1 in list1:\n",
    "    print (N1)"
   ]
  },
  {
   "cell_type": "code",
   "execution_count": 16,
   "id": "b2921401-6362-4f53-aab3-b169ddb8a7e4",
   "metadata": {},
   "outputs": [],
   "source": [
    "list2 = range(0,10,2)"
   ]
  },
  {
   "cell_type": "code",
   "execution_count": 18,
   "id": "c48dce9f-d29e-4b62-b4e7-c9bc9c6bb8ad",
   "metadata": {},
   "outputs": [
    {
     "name": "stdout",
     "output_type": "stream",
     "text": [
      "0\n",
      "2\n",
      "4\n",
      "6\n",
      "8\n"
     ]
    }
   ],
   "source": [
    "for N2 in list2:\n",
    "    print (N2)"
   ]
  }
 ],
 "metadata": {
  "kernelspec": {
   "display_name": "Python 3 (ipykernel)",
   "language": "python",
   "name": "python3"
  },
  "language_info": {
   "codemirror_mode": {
    "name": "ipython",
    "version": 3
   },
   "file_extension": ".py",
   "mimetype": "text/x-python",
   "name": "python",
   "nbconvert_exporter": "python",
   "pygments_lexer": "ipython3",
   "version": "3.12.4"
  }
 },
 "nbformat": 4,
 "nbformat_minor": 5
}
