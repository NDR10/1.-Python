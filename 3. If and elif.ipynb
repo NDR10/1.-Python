{
 "cells": [
  {
   "cell_type": "code",
   "execution_count": 22,
   "id": "1d7a49ac-2c81-4a2f-a3d1-968481a6114c",
   "metadata": {},
   "outputs": [
    {
     "name": "stdin",
     "output_type": "stream",
     "text": [
      "Please enter a valid number. 80\n"
     ]
    }
   ],
   "source": [
    "N = int(input(\"Please enter a valid number.\"))"
   ]
  },
  {
   "cell_type": "code",
   "execution_count": 24,
   "id": "f2e03e04-c484-4928-8e80-bd38236fb0c1",
   "metadata": {},
   "outputs": [
    {
     "name": "stdout",
     "output_type": "stream",
     "text": [
      "You are a super senior citizen\n"
     ]
    }
   ],
   "source": [
    "if (N<18):\n",
    "    print(\"You are an under-aged person\")\n",
    "elif (N<31):\n",
    "    print(\"You are an adult\")\n",
    "elif (N<51):\n",
    "    print(\"You are almost old\")\n",
    "elif (N<76):\n",
    "    print(\"You are a senior citizen\")\n",
    "else:\n",
    "    print(\"You are a super senior citizen\")"
   ]
  },
  {
   "cell_type": "code",
   "execution_count": null,
   "id": "9babb569-dcea-4ab1-90fa-af4569746092",
   "metadata": {},
   "outputs": [],
   "source": []
  }
 ],
 "metadata": {
  "kernelspec": {
   "display_name": "Python 3 (ipykernel)",
   "language": "python",
   "name": "python3"
  },
  "language_info": {
   "codemirror_mode": {
    "name": "ipython",
    "version": 3
   },
   "file_extension": ".py",
   "mimetype": "text/x-python",
   "name": "python",
   "nbconvert_exporter": "python",
   "pygments_lexer": "ipython3",
   "version": "3.12.4"
  }
 },
 "nbformat": 4,
 "nbformat_minor": 5
}
