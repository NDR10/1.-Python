{
 "cells": [
  {
   "cell_type": "code",
   "execution_count": 2,
   "id": "3874ac43-f915-4fba-8d07-2a59ca956c29",
   "metadata": {},
   "outputs": [
    {
     "name": "stdout",
     "output_type": "stream",
     "text": [
      "Welcome to Assignment - 1\n"
     ]
    }
   ],
   "source": [
    "print(\"Welcome to Assignment - 1\")"
   ]
  },
  {
   "cell_type": "code",
   "execution_count": 14,
   "id": "b66a6994-5e1f-47f3-bdb4-0c9c814ab03c",
   "metadata": {},
   "outputs": [
    {
     "name": "stdin",
     "output_type": "stream",
     "text": [
      "Enter the first number. 10\n",
      "Enter the second number. 30\n"
     ]
    }
   ],
   "source": [
    "Num1=int(input(\"Enter the first number.\"))\n",
    "Num2=int(input(\"Enter the second number.\"))\n",
    "Add = Num1 + Num2"
   ]
  },
  {
   "cell_type": "code",
   "execution_count": 16,
   "id": "ae1b5643-46d2-45da-b3ce-6a9341601293",
   "metadata": {},
   "outputs": [
    {
     "name": "stdout",
     "output_type": "stream",
     "text": [
      "Num1 = 10\n",
      "Num2 = 30\n",
      "Add = 40\n"
     ]
    }
   ],
   "source": [
    "print(\"Num1 =\", Num1)\n",
    "print(\"Num2 =\", Num2)\n",
    "print(\"Add =\", Add)"
   ]
  },
  {
   "cell_type": "code",
   "execution_count": 18,
   "id": "c77ccfec-978f-400f-b93f-2247ae0d463e",
   "metadata": {},
   "outputs": [],
   "source": [
    "#Body Mass Index"
   ]
  },
  {
   "cell_type": "code",
   "execution_count": 49,
   "id": "bd7469a1-fa96-494c-a4cc-efcf3bd2ebfd",
   "metadata": {},
   "outputs": [
    {
     "name": "stdin",
     "output_type": "stream",
     "text": [
      "What is your height? 1.8\n",
      "What is your weight? 100\n"
     ]
    },
    {
     "name": "stdout",
     "output_type": "stream",
     "text": [
      "Your Body Mass Index is: 30.864197530864196\n",
      "You are in obesity Class 1\n"
     ]
    }
   ],
   "source": [
    "Height = float(input(\"What is your height?\"))\n",
    "Weight = float(input(\"What is your weight?\"))\n",
    "Product  = Height * Height\n",
    "BMI=Weight/Product\n",
    "print(\"Your Body Mass Index is:\", BMI)\n",
    "if (BMI<18.5):\n",
    "    print(\"You are underweight\")\n",
    "elif (BMI<25):\n",
    "    print(\"You have normal weight\")\n",
    "elif (BMI<30):\n",
    "    print(\"You are pre obesity\")\n",
    "elif (BMI<35):\n",
    "    print(\"You are in obesity Class 1\")\n",
    "elif (BMI<40):\n",
    "    print(\"You are in obesity Class 2\")\n",
    "else:\n",
    "    print(\"You are in obesity Class 3\")"
   ]
  },
  {
   "cell_type": "code",
   "execution_count": null,
   "id": "3c28187b-1589-41c5-a54a-7935968a5466",
   "metadata": {},
   "outputs": [],
   "source": []
  }
 ],
 "metadata": {
  "kernelspec": {
   "display_name": "Python 3 (ipykernel)",
   "language": "python",
   "name": "python3"
  },
  "language_info": {
   "codemirror_mode": {
    "name": "ipython",
    "version": 3
   },
   "file_extension": ".py",
   "mimetype": "text/x-python",
   "name": "python",
   "nbconvert_exporter": "python",
   "pygments_lexer": "ipython3",
   "version": "3.12.4"
  }
 },
 "nbformat": 4,
 "nbformat_minor": 5
}
