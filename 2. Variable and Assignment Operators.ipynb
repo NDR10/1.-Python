{
 "cells": [
  {
   "cell_type": "code",
   "execution_count": 12,
   "id": "77689e55-2657-4981-ac20-a61a0701d4dd",
   "metadata": {},
   "outputs": [
    {
     "name": "stdout",
     "output_type": "stream",
     "text": [
      "Program on variables and assignment operators\n",
      "This particular program is written to execute simple mathematical calculation\n"
     ]
    }
   ],
   "source": [
    "print (\"Program on variables and assignment operators\")\n",
    "print (\"This particular program is written to execute simple mathematical calculation\")"
   ]
  },
  {
   "cell_type": "code",
   "execution_count": 16,
   "id": "4fa792dc-4b8f-4778-9bea-d9ea52b7b150",
   "metadata": {},
   "outputs": [
    {
     "name": "stdin",
     "output_type": "stream",
     "text": [
      "Enter the first number: 50\n"
     ]
    }
   ],
   "source": [
    "N1 = int(input(\"Enter the first number:\"))"
   ]
  },
  {
   "cell_type": "code",
   "execution_count": 18,
   "id": "7b37075c-1ce7-4814-80c2-8c2498777bb1",
   "metadata": {},
   "outputs": [
    {
     "name": "stdin",
     "output_type": "stream",
     "text": [
      "Enter the second number: 30\n"
     ]
    }
   ],
   "source": [
    "N2 = int(input(\"Enter the second number:\"))"
   ]
  },
  {
   "cell_type": "code",
   "execution_count": 20,
   "id": "9110a82e-658c-4689-a421-142fc8d44463",
   "metadata": {},
   "outputs": [
    {
     "name": "stdout",
     "output_type": "stream",
     "text": [
      "The first number is: 50\n",
      "The second number is: 30\n",
      "The sum of the two numbers is: 80\n",
      "The difference between the two numbers is: 20\n",
      "The product of the two numbers is: 1500\n",
      "The ratio between the two numbers is: 1.6666666666666667\n"
     ]
    }
   ],
   "source": [
    "Sum = N1 + N2\n",
    "Difference = N1 - N2\n",
    "Product = N1 * N2\n",
    "Ratio = N1 / N2\n",
    "print (\"The first number is:\", N1)\n",
    "print (\"The second number is:\", N2)\n",
    "print (\"The sum of the two numbers is:\", Sum)\n",
    "print (\"The difference between the two numbers is:\", Difference)\n",
    "print (\"The product of the two numbers is:\", Product)\n",
    "print (\"The ratio between the two numbers is:\", Ratio)"
   ]
  },
  {
   "cell_type": "code",
   "execution_count": null,
   "id": "49964d71-8c1d-4b41-93de-1612542ae189",
   "metadata": {},
   "outputs": [],
   "source": []
  }
 ],
 "metadata": {
  "kernelspec": {
   "display_name": "Python 3 (ipykernel)",
   "language": "python",
   "name": "python3"
  },
  "language_info": {
   "codemirror_mode": {
    "name": "ipython",
    "version": 3
   },
   "file_extension": ".py",
   "mimetype": "text/x-python",
   "name": "python",
   "nbconvert_exporter": "python",
   "pygments_lexer": "ipython3",
   "version": "3.12.4"
  }
 },
 "nbformat": 4,
 "nbformat_minor": 5
}
