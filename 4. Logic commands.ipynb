{
 "cells": [
  {
   "cell_type": "code",
   "execution_count": 10,
   "id": "d3091c71-bac3-46db-bc9c-f3e804c9225d",
   "metadata": {},
   "outputs": [
    {
     "name": "stdin",
     "output_type": "stream",
     "text": [
      "Please enter a valid number. 10\n"
     ]
    }
   ],
   "source": [
    "N = int(input(\"Please enter a valid number.\"))"
   ]
  },
  {
   "cell_type": "code",
   "execution_count": 12,
   "id": "ac130f9d-2fe6-488a-8bc7-2a807316ee01",
   "metadata": {},
   "outputs": [
    {
     "name": "stdout",
     "output_type": "stream",
     "text": [
      "The number is an even number.\n"
     ]
    }
   ],
   "source": [
    "if((N%2==0)):\n",
    "   print (\"The number is an even number.\")\n",
    "else:\n",
    "    print (\"The number is an odd number.\")"
   ]
  },
  {
   "cell_type": "code",
   "execution_count": null,
   "id": "2c1c1edb-353b-416d-ba61-47092d08ead5",
   "metadata": {},
   "outputs": [],
   "source": []
  }
 ],
 "metadata": {
  "kernelspec": {
   "display_name": "Python 3 (ipykernel)",
   "language": "python",
   "name": "python3"
  },
  "language_info": {
   "codemirror_mode": {
    "name": "ipython",
    "version": 3
   },
   "file_extension": ".py",
   "mimetype": "text/x-python",
   "name": "python",
   "nbconvert_exporter": "python",
   "pygments_lexer": "ipython3",
   "version": "3.12.4"
  }
 },
 "nbformat": 4,
 "nbformat_minor": 5
}
